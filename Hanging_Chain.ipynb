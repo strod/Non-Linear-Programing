{
 "cells": [
  {
   "cell_type": "markdown",
   "metadata": {},
   "source": [
    "# The Hanging Chain Project - Part I\n",
    "\n",
    "The Hanging Chain Project is presented in the sections 13.8, 14.7, 15.4, 17.4, and 18.4 of the book [Numerical Optimization: Theoretical and Practical Aspects  (2006, second edition)](https://who.rocq.inria.fr/Jean-Charles.Gilbert/bgls/bgls.html), by J.F. Bonnans, J.Ch. Gilbert, C. Lemaréchal, and C.A. Sagastizábal, Springer. \n",
    "\n",
    "In this project, we propose to look at the problem of finding the static  equilibrium position of a chain made of rigid bars. The extreme joints of the chain are supposed to be fixed at two hooks and it is maintained above a given piecewise linear convex floor. The problem can be modeled as a minimization problem with equality and inequality constraints.\n",
    "\n",
    "The hanging chain problem has been considered by several authors, with more or less generality and without the floor constraint. Luenberger (1984) introduces it \"to illustrate a wide assortment of theoretical principles and practical techniques\". Veselic (1995) provides a precise analysis of the problem. Bonnans and Shapiro (1998) use it as an example for a perturbation analysis. Select the button \"References\" in the menu for getting the full references.\n",
    "\n",
    "Here I´m going to introduce two possible solutions (with or without a floor) using [scipy.optimize.minimize](https://docs.scipy.org/doc/scipy/reference/generated/scipy.optimize.minimize.html). It´s not the best possible solver out there, but for the sake of simplification and the \"easy goingness\" of scipy we´ll be able to get good enough solutions using two techniques:\n",
    "\n",
    "* Reducing the constrained problem to a non-constrained using penalization techniques and using the 'BFGS' method.\n",
    "* Using the non-linear constrained SLSQP method."
   ]
  },
  {
   "cell_type": "markdown",
   "metadata": {},
   "source": [
    "### The Mathematical Formulation\n",
    "\n",
    "We suppose that the chain has perfectly flexible joints and is subject to gravity, so that it lies in the vertical plane containing the hooks. Let it be the (x, y)-plane. We assume that the chain has `nb` rigid bars of given lengths $L_i$, i = 1, . . . , nb. Therefore, there are `nj = nb − 1` free joints and `nk = nb + 1` joints.\n",
    "\n",
    "The coordinates of the joints are denoted by $(x_i, y_i)$, for i = 1, . . . , nj. These ones are the n := 2(nj) variables to determine, since the position of the hooks is supposed to be given: at positions of coordinates ($x_0$, $y_0$) = (0, 0)\n",
    "and ($x_{nb}$, $y_{nb}$) = (a, b) say, like the picture below."
   ]
  },
  {
   "cell_type": "markdown",
   "metadata": {},
   "source": [
    "![Hanging Chain Model](pic_1.PNG)"
   ]
  },
  {
   "cell_type": "markdown",
   "metadata": {},
   "source": [
    "There is no restriction on the value of (a, b). For the sake of simplification, we´ll define the first restriction as (0, 0) by definition.\n",
    "\n",
    "We start with the premise that the position of the chain can be obtained by minimizing its potential energy. Let us give its analytic expression.\n",
    "\n",
    "Consider a chain whose bars have not necessarily the given lengths and that is specified by the position of its free joints. We gather them in the vector of unknowns\n",
    "\n",
    "<br>\n",
    "<center> $$x = (x_0, x_1, x_2 . . . , x_{nb}, y_0, y_1, . . . , y_{nj})$$ </center>\n",
    "\n",
    "\n",
    "Since the $i^{th}$ bar is between the joints of coordinates ($x_{i-1}$, $y_{i-1}$) and ($x_i$ , $y_i$), its length is given by\n",
    "\n",
    "<br>\n",
    "<center>$$l_i(x) = \\sqrt{(x_i - x_{i-1})^2 + (y_i - y_{i -1})^2} $$</center>\n",
    "\n",
    "\n",
    "Therefore, assuming unit weight per unit of length, the potential energy of the considered chain, which is defined up to a constant, can be written"
   ]
  },
  {
   "cell_type": "markdown",
   "metadata": {},
   "source": [
    "### Potential Energy - Expression\n",
    "\n",
    "$$E(X) = \\sum_{i=1}^{nb} l_i(x).\\frac{y_i + y_{i-1} }{2} $$\n",
    "<br>"
   ]
  },
  {
   "cell_type": "markdown",
   "metadata": {},
   "source": [
    "### Defining the Constrains - Equality\n",
    "\n",
    "The model must also specify the actual length of the bars: $l_i(x) = L_i.$\n",
    "<br><br>\n",
    "Squaring $l_i(x)$ to have differentiability leads to the constraints $c(x) = 0$\n",
    "<br><br>\n",
    "Where,\n",
    "\n",
    "<center>$c_i(x) = l_i(x)^2 − L^2_i$ , for i = 1, . . . , nb."
   ]
  },
  {
   "cell_type": "markdown",
   "metadata": {},
   "source": [
    "### Defining the Constrains - Inequality\n",
    "\n",
    "It is assumed that the floor is smooth, without roughness, so that the joints and the chain can slip on it without resistance. This implies that the actual equilibrium position is still the one with minimal potential energy. To simplify, we assume that the floor is flat and possibly tilted. In the (x, y) - plane, the floor is given by the affine function y = g(x), where\n",
    "\n",
    "$$g(x) = g_0 + g_1x$$\n",
    "\n",
    "The constants g0 and g1 are supposed given and may vary from one testproblem to another. The chain must hang in the half-plane $D := {(x, y) : y \\geqslant g(x)}$.\n",
    "<br><br>\n",
    "In particular, the hooks must lie in D, which leads to the following compatibility conditions on $g_0$ and $g_1$:\n",
    "<br><br>\n",
    "<center>$$g_0 \\leqslant 0 $$  and $$g_0 + g_1a \\leqslant b $$</center>\n",
    "<br><br>    \n",
    "Then, since the chain is affine between its joints, it is entirely in D if $c_i(x)$ $\\leqslant$ 0 $\\in$ $R_{nj}$, where\n",
    "<br><br>\n",
    "<center> $z_i(x)$ = $g_0$ + $g_1$$x_{i−nb}$ − $y_{i−nb}$ </center>"
   ]
  },
  {
   "cell_type": "markdown",
   "metadata": {},
   "source": [
    "### Summarizing\n",
    "\n",
    "Finally, the problem to solve can be written:\n",
    "$$\\begin{equation}\n",
    "    \\begin{cases}\n",
    "        \\min{E(x)} & - & \\text{Objective Function}  \\\\\n",
    "        c_i(x) = 0 & - & \\text{Equality Constrains}  \\\\\n",
    "        z_i(x) \\leqslant 0 & - & \\text{Inequality Constrains}\\\\\n",
    "    \\end{cases}\n",
    "\\end{equation}$$"
   ]
  },
  {
   "cell_type": "markdown",
   "metadata": {},
   "source": [
    "### The Solution\n",
    "\n",
    "Let´s import all the needed libraries and functions and take a later take a further look at the code and formulation envolved"
   ]
  },
  {
   "cell_type": "code",
   "execution_count": 1,
   "metadata": {},
   "outputs": [],
   "source": [
    "#Algebra and Calculus\n",
    "import numpy as np"
   ]
  },
  {
   "cell_type": "code",
   "execution_count": 2,
   "metadata": {},
   "outputs": [],
   "source": [
    "#Data Visualization\n",
    "import matplotlib.pyplot as plt\n",
    "%matplotlib inline"
   ]
  },
  {
   "cell_type": "code",
   "execution_count": 3,
   "metadata": {},
   "outputs": [],
   "source": [
    "from hanging_chain import hang_chain"
   ]
  },
  {
   "cell_type": "markdown",
   "metadata": {},
   "source": [
    "### Toy Example 1 \n",
    "\n",
    "1. 4 bars\n",
    "2. Constant lenght 2\n",
    "3. Fixed point (a, b) = (a, 0)\n",
    "\n",
    "**Inputs:**\n",
    "\n",
    "* Second Constrained Knot Cordinates\n",
    "* Bar Length\n",
    "* Number of Bars - nb"
   ]
  },
  {
   "cell_type": "code",
   "execution_count": 4,
   "metadata": {},
   "outputs": [
    {
     "data": {
      "image/png": "[encoded data removed]",
      "text/plain": [
       "<Figure size 432x432 with 1 Axes>"
      ]
     },
     "metadata": {},
     "output_type": "display_data"
    }
   ],
   "source": [
    "toy_bar = 2 * np.ones(4)\n",
    "a = 5\n",
    "b = 0\n",
    "xo, fbars = hang_chain(x1= a, y1= 0, lb=toy_bar, nb=len(toy_bar))"
   ]
  },
  {
   "cell_type": "code",
   "execution_count": null,
   "metadata": {},
   "outputs": [],
   "source": []
  }
 ],
 "metadata": {
  "kernelspec": {
   "display_name": "Python 3",
   "language": "python",
   "name": "python3"
  },
  "language_info": {
   "codemirror_mode": {
    "name": "ipython",
    "version": 3
   },
   "file_extension": ".py",
   "mimetype": "text/x-python",
   "name": "python",
   "nbconvert_exporter": "python",
   "pygments_lexer": "ipython3",
   "version": "3.6.6"
  }
 },
 "nbformat": 4,
 "nbformat_minor": 2
}
